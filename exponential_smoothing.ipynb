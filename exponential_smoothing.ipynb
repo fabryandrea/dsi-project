{
 "cells": [
  {
   "cell_type": "markdown",
   "metadata": {},
   "source": [
    "# Exponential Smoothing"
   ]
  },
  {
   "cell_type": "markdown",
   "metadata": {},
   "source": [
    "## Load toy dataset"
   ]
  },
  {
   "cell_type": "code",
   "execution_count": 1,
   "metadata": {},
   "outputs": [
    {
     "data": {
      "text/html": [
       "<div>\n",
       "<style scoped>\n",
       "    .dataframe tbody tr th:only-of-type {\n",
       "        vertical-align: middle;\n",
       "    }\n",
       "\n",
       "    .dataframe tbody tr th {\n",
       "        vertical-align: top;\n",
       "    }\n",
       "\n",
       "    .dataframe thead th {\n",
       "        text-align: right;\n",
       "    }\n",
       "</style>\n",
       "<table border=\"1\" class=\"dataframe\">\n",
       "  <thead>\n",
       "    <tr style=\"text-align: right;\">\n",
       "      <th></th>\n",
       "      <th>t</th>\n",
       "      <th>x(t)</th>\n",
       "      <th>a^(t)</th>\n",
       "      <th>b^(t)</th>\n",
       "      <th>x^(t,t+1)</th>\n",
       "      <th>e(t)</th>\n",
       "      <th>e(t)^2</th>\n",
       "      <th>MSE</th>\n",
       "    </tr>\n",
       "  </thead>\n",
       "  <tbody>\n",
       "    <tr>\n",
       "      <th>January</th>\n",
       "      <td>0</td>\n",
       "      <td>28</td>\n",
       "      <td>28.000000</td>\n",
       "      <td>1.350000</td>\n",
       "      <td>29.350000</td>\n",
       "      <td>NaN</td>\n",
       "      <td>NaN</td>\n",
       "      <td>4.200000</td>\n",
       "    </tr>\n",
       "    <tr>\n",
       "      <th>February</th>\n",
       "      <td>1</td>\n",
       "      <td>27</td>\n",
       "      <td>28.762500</td>\n",
       "      <td>1.291250</td>\n",
       "      <td>30.053750</td>\n",
       "      <td>-2.350000</td>\n",
       "      <td>5.522500</td>\n",
       "      <td>4.266125</td>\n",
       "    </tr>\n",
       "    <tr>\n",
       "      <th>March</th>\n",
       "      <td>2</td>\n",
       "      <td>30</td>\n",
       "      <td>30.040313</td>\n",
       "      <td>1.289906</td>\n",
       "      <td>31.330219</td>\n",
       "      <td>-0.053750</td>\n",
       "      <td>0.002889</td>\n",
       "      <td>4.052963</td>\n",
       "    </tr>\n",
       "    <tr>\n",
       "      <th>April</th>\n",
       "      <td>3</td>\n",
       "      <td>34</td>\n",
       "      <td>31.997664</td>\n",
       "      <td>1.356651</td>\n",
       "      <td>33.354315</td>\n",
       "      <td>2.669781</td>\n",
       "      <td>7.127732</td>\n",
       "      <td>4.206702</td>\n",
       "    </tr>\n",
       "    <tr>\n",
       "      <th>May</th>\n",
       "      <td>4</td>\n",
       "      <td>32</td>\n",
       "      <td>33.015736</td>\n",
       "      <td>1.322793</td>\n",
       "      <td>34.338529</td>\n",
       "      <td>-1.354315</td>\n",
       "      <td>1.834169</td>\n",
       "      <td>4.088075</td>\n",
       "    </tr>\n",
       "    <tr>\n",
       "      <th>June</th>\n",
       "      <td>5</td>\n",
       "      <td>33</td>\n",
       "      <td>34.003897</td>\n",
       "      <td>1.289330</td>\n",
       "      <td>35.293226</td>\n",
       "      <td>-1.338529</td>\n",
       "      <td>1.791660</td>\n",
       "      <td>3.973254</td>\n",
       "    </tr>\n",
       "    <tr>\n",
       "      <th>July</th>\n",
       "      <td>6</td>\n",
       "      <td>32</td>\n",
       "      <td>34.469920</td>\n",
       "      <td>1.206999</td>\n",
       "      <td>35.676919</td>\n",
       "      <td>-3.293226</td>\n",
       "      <td>10.845341</td>\n",
       "      <td>4.316859</td>\n",
       "    </tr>\n",
       "    <tr>\n",
       "      <th>August</th>\n",
       "      <td>7</td>\n",
       "      <td>36</td>\n",
       "      <td>35.757689</td>\n",
       "      <td>1.215076</td>\n",
       "      <td>36.972765</td>\n",
       "      <td>0.323081</td>\n",
       "      <td>0.104381</td>\n",
       "      <td>4.106235</td>\n",
       "    </tr>\n",
       "    <tr>\n",
       "      <th>September</th>\n",
       "      <td>8</td>\n",
       "      <td>33</td>\n",
       "      <td>35.979574</td>\n",
       "      <td>1.115757</td>\n",
       "      <td>37.095331</td>\n",
       "      <td>-3.972765</td>\n",
       "      <td>15.782863</td>\n",
       "      <td>4.690066</td>\n",
       "    </tr>\n",
       "    <tr>\n",
       "      <th>October</th>\n",
       "      <td>9</td>\n",
       "      <td>36</td>\n",
       "      <td>36.821498</td>\n",
       "      <td>1.088374</td>\n",
       "      <td>37.909872</td>\n",
       "      <td>-1.095331</td>\n",
       "      <td>1.199750</td>\n",
       "      <td>4.515550</td>\n",
       "    </tr>\n",
       "  </tbody>\n",
       "</table>\n",
       "</div>"
      ],
      "text/plain": [
       "           t  x(t)      a^(t)     b^(t)  x^(t,t+1)      e(t)     e(t)^2  \\\n",
       "January    0    28  28.000000  1.350000  29.350000       NaN        NaN   \n",
       "February   1    27  28.762500  1.291250  30.053750 -2.350000   5.522500   \n",
       "March      2    30  30.040313  1.289906  31.330219 -0.053750   0.002889   \n",
       "April      3    34  31.997664  1.356651  33.354315  2.669781   7.127732   \n",
       "May        4    32  33.015736  1.322793  34.338529 -1.354315   1.834169   \n",
       "June       5    33  34.003897  1.289330  35.293226 -1.338529   1.791660   \n",
       "July       6    32  34.469920  1.206999  35.676919 -3.293226  10.845341   \n",
       "August     7    36  35.757689  1.215076  36.972765  0.323081   0.104381   \n",
       "September  8    33  35.979574  1.115757  37.095331 -3.972765  15.782863   \n",
       "October    9    36  36.821498  1.088374  37.909872 -1.095331   1.199750   \n",
       "\n",
       "                MSE  \n",
       "January    4.200000  \n",
       "February   4.266125  \n",
       "March      4.052963  \n",
       "April      4.206702  \n",
       "May        4.088075  \n",
       "June       3.973254  \n",
       "July       4.316859  \n",
       "August     4.106235  \n",
       "September  4.690066  \n",
       "October    4.515550  "
      ]
     },
     "execution_count": 1,
     "metadata": {},
     "output_type": "execute_result"
    }
   ],
   "source": [
    "import pandas as pd\n",
    "\n",
    "data_df = pd.read_excel('VMI1984_Example.xlsx', header=3)\n",
    "data_df"
   ]
  },
  {
   "cell_type": "markdown",
   "metadata": {},
   "source": [
    "## Simple Exponential Smoothing (level)"
   ]
  },
  {
   "cell_type": "markdown",
   "metadata": {},
   "source": [
    "$\\displaystyle\\hat{x}_{t,t+1}=\\alpha x_t+(1-\\alpha)\\hat{x}_{t-1,t}$ <br>\n",
    "only smoothing param: $\\alpha$"
   ]
  },
  {
   "cell_type": "code",
   "execution_count": null,
   "metadata": {},
   "outputs": [],
   "source": [
    "# initialized with first value in series, no scoring"
   ]
  },
  {
   "cell_type": "code",
   "execution_count": 2,
   "metadata": {},
   "outputs": [
    {
     "data": {
      "text/plain": [
       "[28,\n",
       " 27.9,\n",
       " 28.11,\n",
       " 28.698999999999998,\n",
       " 29.0291,\n",
       " 29.426190000000002,\n",
       " 29.683571,\n",
       " 30.315213900000003,\n",
       " 30.583692510000006,\n",
       " 31.12532325900001]"
      ]
     },
     "execution_count": 2,
     "metadata": {},
     "output_type": "execute_result"
    }
   ],
   "source": [
    "series = data_df['x(t)']\n",
    "\n",
    "from exponential_smoothing import exponential_smoothing\n",
    "\n",
    "exponential_smoothing(series, 0.1)"
   ]
  },
  {
   "cell_type": "code",
   "execution_count": 3,
   "metadata": {},
   "outputs": [],
   "source": [
    "pretrain = series[0:5] # instead of 28, this prediction starts with 30.2\n",
    "train = series\n",
    "test = series[5:10]"
   ]
  },
  {
   "cell_type": "code",
   "execution_count": 4,
   "metadata": {},
   "outputs": [
    {
     "data": {
      "text/plain": [
       "[31.251776000000003,\n",
       " 31.401420800000004,\n",
       " 32.321136640000006,\n",
       " 32.45690931200001,\n",
       " 33.165527449600006]"
      ]
     },
     "execution_count": 4,
     "metadata": {},
     "output_type": "execute_result"
    }
   ],
   "source": [
    "from SES_class import SimpleExponentialSmoothing\n",
    "model = SimpleExponentialSmoothing()\n",
    "model.fit_predict(pretrain, train, alpha=0.2, pred_n=5)"
   ]
  },
  {
   "cell_type": "code",
   "execution_count": 5,
   "metadata": {},
   "outputs": [
    {
     "data": {
      "text/plain": [
       "2.2484573364314664"
      ]
     },
     "execution_count": 5,
     "metadata": {},
     "output_type": "execute_result"
    }
   ],
   "source": [
    "model.score(pretrain, train, test, alpha=0.2, pred_n=5)"
   ]
  },
  {
   "cell_type": "code",
   "execution_count": 30,
   "metadata": {},
   "outputs": [],
   "source": [
    "def exponential_smoothing(series, alpha):\n",
    "    result = [series[0]] # first value is same as series\n",
    "    for n in range(1, len(series)):\n",
    "        result.append(alpha * series[n] + (1 - alpha) * result[n-1])\n",
    "    return result"
   ]
  },
  {
   "cell_type": "code",
   "execution_count": 31,
   "metadata": {},
   "outputs": [
    {
     "data": {
      "text/plain": [
       "[28,\n",
       " 27.9,\n",
       " 28.11,\n",
       " 28.698999999999998,\n",
       " 29.0291,\n",
       " 29.426190000000002,\n",
       " 29.683571,\n",
       " 30.315213900000003,\n",
       " 30.583692510000006,\n",
       " 31.12532325900001]"
      ]
     },
     "execution_count": 31,
     "metadata": {},
     "output_type": "execute_result"
    }
   ],
   "source": [
    "exponential_smoothing(series, 0.1)"
   ]
  },
  {
   "cell_type": "code",
   "execution_count": 32,
   "metadata": {},
   "outputs": [],
   "source": [
    "def exponential_smoothing(series, alpha):\n",
    "    result = [series[0]] # first value is same as series\n",
    "    for i, item in enumerate(train):\n",
    "        result.append(alpha * series[i] + (1 - alpha) * result[i-1])\n",
    "    return result"
   ]
  },
  {
   "cell_type": "code",
   "execution_count": 33,
   "metadata": {},
   "outputs": [
    {
     "data": {
      "text/plain": [
       "[28,\n",
       " 28.0,\n",
       " 27.9,\n",
       " 28.2,\n",
       " 28.509999999999998,\n",
       " 28.58,\n",
       " 28.959,\n",
       " 28.921999999999997,\n",
       " 29.6631,\n",
       " 29.3298,\n",
       " 30.29679]"
      ]
     },
     "execution_count": 33,
     "metadata": {},
     "output_type": "execute_result"
    }
   ],
   "source": [
    "exponential_smoothing(series, 0.1)"
   ]
  },
  {
   "cell_type": "code",
   "execution_count": 40,
   "metadata": {},
   "outputs": [
    {
     "name": "stdout",
     "output_type": "stream",
     "text": [
      "0 28 [28, 27.9]\n",
      "1 27 [28, 27.9, 28.11]\n",
      "2 30 [28, 27.9, 28.11, 28.698999999999998]\n",
      "3 34 [28, 27.9, 28.11, 28.698999999999998, 29.0291]\n",
      "4 32 [28, 27.9, 28.11, 28.698999999999998, 29.0291, 29.426190000000002]\n",
      "5 33 [28, 27.9, 28.11, 28.698999999999998, 29.0291, 29.426190000000002, 29.683571]\n",
      "6 32 [28, 27.9, 28.11, 28.698999999999998, 29.0291, 29.426190000000002, 29.683571, 30.315213900000003]\n",
      "7 36 [28, 27.9, 28.11, 28.698999999999998, 29.0291, 29.426190000000002, 29.683571, 30.315213900000003, 30.583692510000006]\n",
      "8 33 [28, 27.9, 28.11, 28.698999999999998, 29.0291, 29.426190000000002, 29.683571, 30.315213900000003, 30.583692510000006, 31.12532325900001]\n"
     ]
    },
    {
     "ename": "IndexError",
     "evalue": "index out of bounds",
     "output_type": "error",
     "traceback": [
      "\u001b[0;31m---------------------------------------------------------------------------\u001b[0m",
      "\u001b[0;31mKeyError\u001b[0m                                  Traceback (most recent call last)",
      "\u001b[0;32m~/anaconda3/lib/python3.6/site-packages/pandas/core/indexes/base.py\u001b[0m in \u001b[0;36mget_value\u001b[0;34m(self, series, key)\u001b[0m\n\u001b[1;32m   2559\u001b[0m             return self._engine.get_value(s, k,\n\u001b[0;32m-> 2560\u001b[0;31m                                           tz=getattr(series.dtype, 'tz', None))\n\u001b[0m\u001b[1;32m   2561\u001b[0m         \u001b[0;32mexcept\u001b[0m \u001b[0mKeyError\u001b[0m \u001b[0;32mas\u001b[0m \u001b[0me1\u001b[0m\u001b[0;34m:\u001b[0m\u001b[0;34m\u001b[0m\u001b[0m\n",
      "\u001b[0;32mpandas/_libs/index.pyx\u001b[0m in \u001b[0;36mpandas._libs.index.IndexEngine.get_value\u001b[0;34m()\u001b[0m\n",
      "\u001b[0;32mpandas/_libs/index.pyx\u001b[0m in \u001b[0;36mpandas._libs.index.IndexEngine.get_value\u001b[0;34m()\u001b[0m\n",
      "\u001b[0;32mpandas/_libs/index.pyx\u001b[0m in \u001b[0;36mpandas._libs.index.IndexEngine.get_loc\u001b[0;34m()\u001b[0m\n",
      "\u001b[0;32mpandas/_libs/hashtable_class_helper.pxi\u001b[0m in \u001b[0;36mpandas._libs.hashtable.PyObjectHashTable.get_item\u001b[0;34m()\u001b[0m\n",
      "\u001b[0;32mpandas/_libs/hashtable_class_helper.pxi\u001b[0m in \u001b[0;36mpandas._libs.hashtable.PyObjectHashTable.get_item\u001b[0;34m()\u001b[0m\n",
      "\u001b[0;31mKeyError\u001b[0m: 10",
      "\nDuring handling of the above exception, another exception occurred:\n",
      "\u001b[0;31mIndexError\u001b[0m                                Traceback (most recent call last)",
      "\u001b[0;32m<ipython-input-40-d2e1e4ac3289>\u001b[0m in \u001b[0;36m<module>\u001b[0;34m()\u001b[0m\n\u001b[1;32m      2\u001b[0m \u001b[0malpha\u001b[0m \u001b[0;34m=\u001b[0m \u001b[0;36m0.1\u001b[0m\u001b[0;34m\u001b[0m\u001b[0m\n\u001b[1;32m      3\u001b[0m \u001b[0;32mfor\u001b[0m \u001b[0mi\u001b[0m\u001b[0;34m,\u001b[0m \u001b[0mitem\u001b[0m \u001b[0;32min\u001b[0m \u001b[0menumerate\u001b[0m\u001b[0;34m(\u001b[0m\u001b[0mtrain\u001b[0m\u001b[0;34m)\u001b[0m\u001b[0;34m:\u001b[0m\u001b[0;34m\u001b[0m\u001b[0m\n\u001b[0;32m----> 4\u001b[0;31m     \u001b[0mresult\u001b[0m\u001b[0;34m.\u001b[0m\u001b[0mappend\u001b[0m\u001b[0;34m(\u001b[0m\u001b[0malpha\u001b[0m \u001b[0;34m*\u001b[0m \u001b[0mseries\u001b[0m\u001b[0;34m[\u001b[0m\u001b[0mi\u001b[0m\u001b[0;34m+\u001b[0m\u001b[0;36m1\u001b[0m\u001b[0;34m]\u001b[0m \u001b[0;34m+\u001b[0m \u001b[0;34m(\u001b[0m\u001b[0;36m1\u001b[0m \u001b[0;34m-\u001b[0m \u001b[0malpha\u001b[0m\u001b[0;34m)\u001b[0m \u001b[0;34m*\u001b[0m \u001b[0mresult\u001b[0m\u001b[0;34m[\u001b[0m\u001b[0mi\u001b[0m\u001b[0;34m]\u001b[0m\u001b[0;34m)\u001b[0m\u001b[0;34m\u001b[0m\u001b[0m\n\u001b[0m\u001b[1;32m      5\u001b[0m     \u001b[0mprint\u001b[0m\u001b[0;34m(\u001b[0m\u001b[0mi\u001b[0m\u001b[0;34m,\u001b[0m \u001b[0mitem\u001b[0m\u001b[0;34m,\u001b[0m \u001b[0mresult\u001b[0m\u001b[0;34m)\u001b[0m\u001b[0;34m\u001b[0m\u001b[0m\n",
      "\u001b[0;32m~/anaconda3/lib/python3.6/site-packages/pandas/core/series.py\u001b[0m in \u001b[0;36m__getitem__\u001b[0;34m(self, key)\u001b[0m\n\u001b[1;32m    621\u001b[0m         \u001b[0mkey\u001b[0m \u001b[0;34m=\u001b[0m \u001b[0mcom\u001b[0m\u001b[0;34m.\u001b[0m\u001b[0m_apply_if_callable\u001b[0m\u001b[0;34m(\u001b[0m\u001b[0mkey\u001b[0m\u001b[0;34m,\u001b[0m \u001b[0mself\u001b[0m\u001b[0;34m)\u001b[0m\u001b[0;34m\u001b[0m\u001b[0m\n\u001b[1;32m    622\u001b[0m         \u001b[0;32mtry\u001b[0m\u001b[0;34m:\u001b[0m\u001b[0;34m\u001b[0m\u001b[0m\n\u001b[0;32m--> 623\u001b[0;31m             \u001b[0mresult\u001b[0m \u001b[0;34m=\u001b[0m \u001b[0mself\u001b[0m\u001b[0;34m.\u001b[0m\u001b[0mindex\u001b[0m\u001b[0;34m.\u001b[0m\u001b[0mget_value\u001b[0m\u001b[0;34m(\u001b[0m\u001b[0mself\u001b[0m\u001b[0;34m,\u001b[0m \u001b[0mkey\u001b[0m\u001b[0;34m)\u001b[0m\u001b[0;34m\u001b[0m\u001b[0m\n\u001b[0m\u001b[1;32m    624\u001b[0m \u001b[0;34m\u001b[0m\u001b[0m\n\u001b[1;32m    625\u001b[0m             \u001b[0;32mif\u001b[0m \u001b[0;32mnot\u001b[0m \u001b[0mis_scalar\u001b[0m\u001b[0;34m(\u001b[0m\u001b[0mresult\u001b[0m\u001b[0;34m)\u001b[0m\u001b[0;34m:\u001b[0m\u001b[0;34m\u001b[0m\u001b[0m\n",
      "\u001b[0;32m~/anaconda3/lib/python3.6/site-packages/pandas/core/indexes/base.py\u001b[0m in \u001b[0;36mget_value\u001b[0;34m(self, series, key)\u001b[0m\n\u001b[1;32m   2564\u001b[0m \u001b[0;34m\u001b[0m\u001b[0m\n\u001b[1;32m   2565\u001b[0m             \u001b[0;32mtry\u001b[0m\u001b[0;34m:\u001b[0m\u001b[0;34m\u001b[0m\u001b[0m\n\u001b[0;32m-> 2566\u001b[0;31m                 \u001b[0;32mreturn\u001b[0m \u001b[0mlibts\u001b[0m\u001b[0;34m.\u001b[0m\u001b[0mget_value_box\u001b[0m\u001b[0;34m(\u001b[0m\u001b[0ms\u001b[0m\u001b[0;34m,\u001b[0m \u001b[0mkey\u001b[0m\u001b[0;34m)\u001b[0m\u001b[0;34m\u001b[0m\u001b[0m\n\u001b[0m\u001b[1;32m   2567\u001b[0m             \u001b[0;32mexcept\u001b[0m \u001b[0mIndexError\u001b[0m\u001b[0;34m:\u001b[0m\u001b[0;34m\u001b[0m\u001b[0m\n\u001b[1;32m   2568\u001b[0m                 \u001b[0;32mraise\u001b[0m\u001b[0;34m\u001b[0m\u001b[0m\n",
      "\u001b[0;32mpandas/_libs/tslib.pyx\u001b[0m in \u001b[0;36mpandas._libs.tslib.get_value_box\u001b[0;34m()\u001b[0m\n",
      "\u001b[0;32mpandas/_libs/tslib.pyx\u001b[0m in \u001b[0;36mpandas._libs.tslib.get_value_box\u001b[0;34m()\u001b[0m\n",
      "\u001b[0;31mIndexError\u001b[0m: index out of bounds"
     ]
    }
   ],
   "source": [
    "result = [series[0]] # first value is same as series\n",
    "alpha = 0.1\n",
    "for i, item in enumerate(train):\n",
    "    result.append(alpha * series[i+1] + (1 - alpha) * result[i])\n",
    "    print(i, item, result)"
   ]
  },
  {
   "cell_type": "code",
   "execution_count": 38,
   "metadata": {},
   "outputs": [
    {
     "name": "stdout",
     "output_type": "stream",
     "text": [
      "1 [28, 27.9]\n",
      "2 [28, 27.9, 28.11]\n",
      "3 [28, 27.9, 28.11, 28.698999999999998]\n",
      "4 [28, 27.9, 28.11, 28.698999999999998, 29.0291]\n",
      "5 [28, 27.9, 28.11, 28.698999999999998, 29.0291, 29.426190000000002]\n",
      "6 [28, 27.9, 28.11, 28.698999999999998, 29.0291, 29.426190000000002, 29.683571]\n",
      "7 [28, 27.9, 28.11, 28.698999999999998, 29.0291, 29.426190000000002, 29.683571, 30.315213900000003]\n",
      "8 [28, 27.9, 28.11, 28.698999999999998, 29.0291, 29.426190000000002, 29.683571, 30.315213900000003, 30.583692510000006]\n",
      "9 [28, 27.9, 28.11, 28.698999999999998, 29.0291, 29.426190000000002, 29.683571, 30.315213900000003, 30.583692510000006, 31.12532325900001]\n"
     ]
    }
   ],
   "source": [
    "result = [series[0]] # first value is same as series\n",
    "alpha = 0.1\n",
    "for n in range(1, len(series)):\n",
    "    result.append(alpha * series[n] + (1 - alpha) * result[n-1])\n",
    "    print(n, result)"
   ]
  },
  {
   "cell_type": "markdown",
   "metadata": {},
   "source": [
    "## Holt (level + trend)"
   ]
  },
  {
   "cell_type": "markdown",
   "metadata": {},
   "source": [
    "$\\displaystyle\\hat{x}_{t,t+\\tau}=\\hat{a}_t+\\tau\\hat{b}_t$ <br>\n",
    "<br>\n",
    "$\\displaystyle\\hat{a}_t=\\alpha x_t+(1-\\alpha)(\\hat{a}_{t-1}+\\hat{b}_{t-1})$ <br>\n",
    "<br>\n",
    "$\\displaystyle\\hat{b}_t=\\beta (\\hat{a}_t - \\hat{a}_{t-1}) + (1-\\beta) \\hat{b}_{t-1}$ <br>\n",
    "<br>\n",
    "smoothing params: $\\alpha$ (level), $\\beta$ (trend)"
   ]
  },
  {
   "cell_type": "code",
   "execution_count": null,
   "metadata": {},
   "outputs": [],
   "source": [
    "# initialized with first value in series (level), and difference between second and first value\n",
    "# in the series ()"
   ]
  },
  {
   "cell_type": "code",
   "execution_count": 7,
   "metadata": {},
   "outputs": [
    {
     "data": {
      "text/plain": [
       "[28,\n",
       " 26.0,\n",
       " 25.404000000000003,\n",
       " 25.276196000000002,\n",
       " 24.967896204,\n",
       " 24.798458491396,\n",
       " 24.553166091561003,\n",
       " 24.74384976561795,\n",
       " 24.62372122250358,\n",
       " 24.826981812478145,\n",
       " 23.89261452470307]"
      ]
     },
     "execution_count": 7,
     "metadata": {},
     "output_type": "execute_result"
    }
   ],
   "source": [
    "series = data_df['x(t)']\n",
    "\n",
    "from exponential_smoothing import Holt_smoothing\n",
    "\n",
    "Holt_smoothing(series, 0.1, 0.01)"
   ]
  },
  {
   "cell_type": "code",
   "execution_count": 29,
   "metadata": {},
   "outputs": [
    {
     "name": "stdout",
     "output_type": "stream",
     "text": [
      "[28.30909091]\n",
      "[[0.84242424]]\n"
     ]
    },
    {
     "data": {
      "text/plain": [
       "29.151515151515156"
      ]
     },
     "execution_count": 29,
     "metadata": {},
     "output_type": "execute_result"
    }
   ],
   "source": [
    "from sklearn.linear_model import LinearRegression\n",
    "X=data_df['t'].values.reshape(-1, 1)\n",
    "y=data_df['x(t)'].values.reshape(-1, 1)\n",
    "\n",
    "lin_model = LinearRegression()\n",
    "lin_model.fit(X,y)\n",
    "\n",
    "level = lin_model.intercept_\n",
    "trend = lin_model.coef_\n",
    "print(level)\n",
    "print(trend)\n",
    "t = 1\n",
    "a_hat_zero = float(t* trend + level)\n",
    "a_hat_zero"
   ]
  },
  {
   "cell_type": "code",
   "execution_count": 42,
   "metadata": {},
   "outputs": [
    {
     "data": {
      "text/plain": [
       "Index(['January', 'February', 'March', 'April', 'May', 'June', 'July',\n",
       "       'August', 'September', 'October'],\n",
       "      dtype='object')"
      ]
     },
     "execution_count": 42,
     "metadata": {},
     "output_type": "execute_result"
    }
   ],
   "source": [
    "X.shape\n",
    "y.shape\n",
    "X=data_df.index\n",
    "X"
   ]
  },
  {
   "cell_type": "markdown",
   "metadata": {},
   "source": [
    "## Double Exponential Smoothing (level + season)"
   ]
  },
  {
   "cell_type": "markdown",
   "metadata": {},
   "source": [
    "$\\displaystyle\\hat{x}_{t,t+\\tau}=\\hat{a}_t+\\tau\\hat{F}_{t+\\tau P}$ <br>\n",
    "<br>\n",
    "$\\displaystyle\\hat{a}_t=\\alpha (\\frac{x_t}{\\hat{F}_{t-P}}) + (1-\\alpha)\\hat{a}_{t-1}$ <br>\n",
    "<br>\n",
    "$\\displaystyle\\hat{F}_t=\\gamma (\\frac{x_t}{\\hat{a}_t}) + (1-\\gamma) \\hat{F}_{t-P}$ <br>\n",
    "<br>\n",
    "smoothing params: $\\alpha$ (level), $\\gamma$ (season)"
   ]
  },
  {
   "cell_type": "code",
   "execution_count": null,
   "metadata": {},
   "outputs": [],
   "source": [
    "# initialize"
   ]
  },
  {
   "cell_type": "code",
   "execution_count": null,
   "metadata": {},
   "outputs": [],
   "source": [
    "# NO CODE"
   ]
  },
  {
   "cell_type": "code",
   "execution_count": null,
   "metadata": {},
   "outputs": [],
   "source": []
  },
  {
   "cell_type": "markdown",
   "metadata": {},
   "source": [
    "## Holt-Winters (level + trend + season)"
   ]
  },
  {
   "cell_type": "code",
   "execution_count": null,
   "metadata": {},
   "outputs": [],
   "source": [
    "# FINISH FORMULA!!!"
   ]
  },
  {
   "cell_type": "markdown",
   "metadata": {},
   "source": [
    "$\\displaystyle\\hat{x}_{t,t+\\tau}=\\hat{a}_t+\\tau\\hat{F}_{t+\\tau P}$ <br>\n",
    "<br>\n",
    "$\\displaystyle\\hat{a}_t=\\alpha (\\frac{x_t}{\\hat{F}_{t-P}}) + (1-\\alpha)\\hat{a}_{t-1}$ <br>\n",
    "<br>\n",
    "$\\displaystyle\\hat{F}_t=\\gamma (\\frac{x_t}{\\hat{a}_t}) + (1-\\gamma) \\hat{F}_{t-P}$ <br>\n",
    "<br>\n",
    "smoothing params: $\\alpha$ (level), $\\gamma$ (season)"
   ]
  },
  {
   "cell_type": "code",
   "execution_count": null,
   "metadata": {},
   "outputs": [],
   "source": [
    "# initialize"
   ]
  },
  {
   "cell_type": "code",
   "execution_count": null,
   "metadata": {},
   "outputs": [],
   "source": []
  }
 ],
 "metadata": {
  "kernelspec": {
   "display_name": "Python 3",
   "language": "python",
   "name": "python3"
  },
  "language_info": {
   "codemirror_mode": {
    "name": "ipython",
    "version": 3
   },
   "file_extension": ".py",
   "mimetype": "text/x-python",
   "name": "python",
   "nbconvert_exporter": "python",
   "pygments_lexer": "ipython3",
   "version": "3.6.4"
  }
 },
 "nbformat": 4,
 "nbformat_minor": 2
}
