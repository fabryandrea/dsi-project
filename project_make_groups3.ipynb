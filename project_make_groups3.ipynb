{
 "cells": [
  {
   "cell_type": "markdown",
   "metadata": {},
   "source": [
    "# Roadmap"
   ]
  },
  {
   "cell_type": "markdown",
   "metadata": {},
   "source": [
    "1. Get data\n",
    "2. Create train-test split\n",
    "3. Clean training set (write functions): missing values, text, categorical attributes, scaling\n",
    "4. Select models and scoring metrics, then train\n",
    "5. Compare them: clean test set, make predictions, score\n",
    "6. Fine-tune models"
   ]
  },
  {
   "cell_type": "code",
   "execution_count": 1,
   "metadata": {},
   "outputs": [],
   "source": [
    "%load_ext autoreload\n",
    "%autoreload 2\n",
    "import autoreload"
   ]
  },
  {
   "cell_type": "markdown",
   "metadata": {},
   "source": [
    "## 1. Load data"
   ]
  },
  {
   "cell_type": "code",
   "execution_count": 2,
   "metadata": {},
   "outputs": [
    {
     "name": "stdout",
     "output_type": "stream",
     "text": [
      "<class 'pandas.core.frame.DataFrame'>\n",
      "DatetimeIndex: 292 entries, 2012-04-08 to 2017-11-05\n",
      "Columns: 1833 entries, 012 to TRUHONE\n",
      "dtypes: int64(1833)\n",
      "memory usage: 4.1 MB\n"
     ]
    }
   ],
   "source": [
    "from functions import load_data\n",
    "data_df = load_data('data/time_series.xlsx')\n",
    "data_df.info()"
   ]
  },
  {
   "cell_type": "markdown",
   "metadata": {},
   "source": [
    "## 2. Train-Test Split"
   ]
  },
  {
   "cell_type": "code",
   "execution_count": 3,
   "metadata": {},
   "outputs": [
    {
     "name": "stdout",
     "output_type": "stream",
     "text": [
      "Observations: 292\n",
      "Training Observations: 240\n",
      "Testing Observations: 52\n"
     ]
    }
   ],
   "source": [
    "# splitting into training and testing sets setting aside last year for testing\n",
    "from functions import ts_train_test_split\n",
    "\n",
    "train_df, test_df = ts_train_test_split(data_df, 52)"
   ]
  },
  {
   "cell_type": "code",
   "execution_count": null,
   "metadata": {},
   "outputs": [],
   "source": [
    "# DO NOT TOUCH Test Set!!!! Data snooping no-no"
   ]
  },
  {
   "cell_type": "markdown",
   "metadata": {},
   "source": [
    "## Make Groups"
   ]
  },
  {
   "cell_type": "code",
   "execution_count": 4,
   "metadata": {},
   "outputs": [
    {
     "data": {
      "text/plain": [
       "1833"
      ]
     },
     "execution_count": 4,
     "metadata": {},
     "output_type": "execute_result"
    }
   ],
   "source": [
    "# make a list of column names\n",
    "product_SKUs = list(train_df.columns.values)\n",
    "len(product_SKUs)"
   ]
  },
  {
   "cell_type": "code",
   "execution_count": 5,
   "metadata": {},
   "outputs": [
    {
     "data": {
      "text/plain": [
       "472"
      ]
     },
     "execution_count": 5,
     "metadata": {},
     "output_type": "execute_result"
    }
   ],
   "source": [
    "# non_active products\n",
    "# defined as products that have not moved in n_weeks time periods\n",
    "# we will start with n_weeks 52 (1 year)\n",
    "\n",
    "from datetime import datetime\n",
    "\n",
    "def identify_non_active(dataframe, product_list, year, month, day):\n",
    "    last_tp = (dataframe[datetime(year, month, day):])\n",
    "\n",
    "    non_active = []\n",
    "    for product in product_list:\n",
    "        if last_tp[product].sum() == 0:\n",
    "            non_active.append(product)\n",
    "    return non_active\n",
    "\n",
    "non_active = identify_non_active(train_df, product_SKUs, 2015, 11, 4)\n",
    "len(non_active)"
   ]
  },
  {
   "cell_type": "code",
   "execution_count": 6,
   "metadata": {},
   "outputs": [
    {
     "data": {
      "text/plain": [
       "1361"
      ]
     },
     "execution_count": 6,
     "metadata": {},
     "output_type": "execute_result"
    }
   ],
   "source": [
    "# 1833 products, 472 non_active, leaving 1361, new?\n",
    "len(product_SKUs) - len(non_active)"
   ]
  },
  {
   "cell_type": "code",
   "execution_count": 7,
   "metadata": {},
   "outputs": [
    {
     "data": {
      "text/plain": [
       "138"
      ]
     },
     "execution_count": 7,
     "metadata": {},
     "output_type": "execute_result"
    }
   ],
   "source": [
    "# new products \n",
    "train_df[:datetime(2014, 5, 3)]\n",
    "\n",
    "def identify_new_product(dataframe, product_list, year, month, day):\n",
    "    previous_tp = (dataframe[:datetime(year, month, day)])\n",
    "    last_tp = (dataframe[datetime(year, month, day):])\n",
    "\n",
    "    new_products = []\n",
    "    for product in product_list:\n",
    "        if previous_tp[product].sum() == 0 and last_tp[product].sum() !=0:\n",
    "            new_products.append(product)\n",
    "    return new_products\n",
    "new_products = identify_new_product(train_df, product_SKUs, 2015, 11, 4)\n",
    "len(new_products)"
   ]
  },
  {
   "cell_type": "code",
   "execution_count": 8,
   "metadata": {},
   "outputs": [
    {
     "data": {
      "text/plain": [
       "1223"
      ]
     },
     "execution_count": 8,
     "metadata": {},
     "output_type": "execute_result"
    }
   ],
   "source": [
    "# 1833 products, 472 non_active, 138 new, leaving 1223, intermittent?\n",
    "len(product_SKUs) - len(non_active) - len(new_products)"
   ]
  },
  {
   "cell_type": "code",
   "execution_count": 9,
   "metadata": {},
   "outputs": [
    {
     "data": {
      "text/plain": [
       "0"
      ]
     },
     "execution_count": 9,
     "metadata": {},
     "output_type": "execute_result"
    }
   ],
   "source": [
    "# intermittent demand\n",
    "# iterate over last year, if n consecutive values = 0, but sum != 0 \n",
    "# (they are all active so no need to check), it's intermittent\n",
    "def identify_intermittent_product(dataframe, product_list, non_active, year, month, day, n):\n",
    "    last_tp = (dataframe[datetime(year, month, day):])\n",
    "\n",
    "    products = [value for value in product_SKUs if value not in non_active]\n",
    "    intermittent = products.copy()\n",
    "    \n",
    "    for product in products:\n",
    "        if last_tp[product].rolling(n).sum().dropna().nonzero():\n",
    "            intermittent.remove(product)\n",
    "    return intermittent\n",
    "    \n",
    "my_list = identify_intermittent_product(train_df, product_SKUs, non_active, 2015, 11, 4, 2)\n",
    "len(my_list)"
   ]
  },
  {
   "cell_type": "code",
   "execution_count": null,
   "metadata": {},
   "outputs": [],
   "source": [
    "# 1223 products k=15\n",
    "1223/15"
   ]
  },
  {
   "cell_type": "code",
   "execution_count": 30,
   "metadata": {},
   "outputs": [
    {
     "data": {
      "text/html": [
       "<div>\n",
       "<style scoped>\n",
       "    .dataframe tbody tr th:only-of-type {\n",
       "        vertical-align: middle;\n",
       "    }\n",
       "\n",
       "    .dataframe tbody tr th {\n",
       "        vertical-align: top;\n",
       "    }\n",
       "\n",
       "    .dataframe thead th {\n",
       "        text-align: right;\n",
       "    }\n",
       "</style>\n",
       "<table border=\"1\" class=\"dataframe\">\n",
       "  <thead>\n",
       "    <tr style=\"text-align: right;\">\n",
       "      <th></th>\n",
       "      <th>017</th>\n",
       "      <th>0300ST1550-1</th>\n",
       "      <th>0300ST245-1</th>\n",
       "      <th>0300ST320-1</th>\n",
       "      <th>0300ST320-2</th>\n",
       "      <th>0300ST320-3</th>\n",
       "      <th>0300ST365-1</th>\n",
       "      <th>0300ST365-2</th>\n",
       "      <th>0300ST365-3</th>\n",
       "      <th>0300ST450-1</th>\n",
       "      <th>...</th>\n",
       "      <th>9920-1</th>\n",
       "      <th>9920-2</th>\n",
       "      <th>9920-3</th>\n",
       "      <th>9920-4</th>\n",
       "      <th>9920-5</th>\n",
       "      <th>9920-6</th>\n",
       "      <th>9920-7</th>\n",
       "      <th>9997-25</th>\n",
       "      <th>HW220D15</th>\n",
       "      <th>TRUHONE</th>\n",
       "    </tr>\n",
       "    <tr>\n",
       "      <th>EntDate</th>\n",
       "      <th></th>\n",
       "      <th></th>\n",
       "      <th></th>\n",
       "      <th></th>\n",
       "      <th></th>\n",
       "      <th></th>\n",
       "      <th></th>\n",
       "      <th></th>\n",
       "      <th></th>\n",
       "      <th></th>\n",
       "      <th></th>\n",
       "      <th></th>\n",
       "      <th></th>\n",
       "      <th></th>\n",
       "      <th></th>\n",
       "      <th></th>\n",
       "      <th></th>\n",
       "      <th></th>\n",
       "      <th></th>\n",
       "      <th></th>\n",
       "      <th></th>\n",
       "    </tr>\n",
       "  </thead>\n",
       "  <tbody>\n",
       "    <tr>\n",
       "      <th>2012-04-08</th>\n",
       "      <td>0</td>\n",
       "      <td>0</td>\n",
       "      <td>0</td>\n",
       "      <td>0</td>\n",
       "      <td>0</td>\n",
       "      <td>0</td>\n",
       "      <td>0</td>\n",
       "      <td>0</td>\n",
       "      <td>0</td>\n",
       "      <td>0</td>\n",
       "      <td>...</td>\n",
       "      <td>0</td>\n",
       "      <td>0</td>\n",
       "      <td>0</td>\n",
       "      <td>0</td>\n",
       "      <td>0</td>\n",
       "      <td>0</td>\n",
       "      <td>0</td>\n",
       "      <td>0</td>\n",
       "      <td>0</td>\n",
       "      <td>0</td>\n",
       "    </tr>\n",
       "    <tr>\n",
       "      <th>2012-04-15</th>\n",
       "      <td>0</td>\n",
       "      <td>0</td>\n",
       "      <td>0</td>\n",
       "      <td>0</td>\n",
       "      <td>0</td>\n",
       "      <td>0</td>\n",
       "      <td>1</td>\n",
       "      <td>0</td>\n",
       "      <td>1</td>\n",
       "      <td>2</td>\n",
       "      <td>...</td>\n",
       "      <td>21</td>\n",
       "      <td>20</td>\n",
       "      <td>19</td>\n",
       "      <td>7</td>\n",
       "      <td>166</td>\n",
       "      <td>98</td>\n",
       "      <td>0</td>\n",
       "      <td>0</td>\n",
       "      <td>0</td>\n",
       "      <td>0</td>\n",
       "    </tr>\n",
       "    <tr>\n",
       "      <th>2012-04-22</th>\n",
       "      <td>0</td>\n",
       "      <td>0</td>\n",
       "      <td>0</td>\n",
       "      <td>0</td>\n",
       "      <td>0</td>\n",
       "      <td>0</td>\n",
       "      <td>0</td>\n",
       "      <td>0</td>\n",
       "      <td>0</td>\n",
       "      <td>0</td>\n",
       "      <td>...</td>\n",
       "      <td>114</td>\n",
       "      <td>41</td>\n",
       "      <td>15</td>\n",
       "      <td>10</td>\n",
       "      <td>207</td>\n",
       "      <td>87</td>\n",
       "      <td>0</td>\n",
       "      <td>0</td>\n",
       "      <td>0</td>\n",
       "      <td>0</td>\n",
       "    </tr>\n",
       "    <tr>\n",
       "      <th>2012-04-29</th>\n",
       "      <td>0</td>\n",
       "      <td>0</td>\n",
       "      <td>0</td>\n",
       "      <td>0</td>\n",
       "      <td>0</td>\n",
       "      <td>0</td>\n",
       "      <td>200</td>\n",
       "      <td>0</td>\n",
       "      <td>0</td>\n",
       "      <td>0</td>\n",
       "      <td>...</td>\n",
       "      <td>43</td>\n",
       "      <td>38</td>\n",
       "      <td>44</td>\n",
       "      <td>13</td>\n",
       "      <td>101</td>\n",
       "      <td>21</td>\n",
       "      <td>10</td>\n",
       "      <td>0</td>\n",
       "      <td>0</td>\n",
       "      <td>0</td>\n",
       "    </tr>\n",
       "    <tr>\n",
       "      <th>2012-05-06</th>\n",
       "      <td>0</td>\n",
       "      <td>0</td>\n",
       "      <td>0</td>\n",
       "      <td>0</td>\n",
       "      <td>0</td>\n",
       "      <td>0</td>\n",
       "      <td>0</td>\n",
       "      <td>0</td>\n",
       "      <td>0</td>\n",
       "      <td>0</td>\n",
       "      <td>...</td>\n",
       "      <td>154</td>\n",
       "      <td>29</td>\n",
       "      <td>47</td>\n",
       "      <td>21</td>\n",
       "      <td>75</td>\n",
       "      <td>43</td>\n",
       "      <td>0</td>\n",
       "      <td>0</td>\n",
       "      <td>0</td>\n",
       "      <td>0</td>\n",
       "    </tr>\n",
       "  </tbody>\n",
       "</table>\n",
       "<p>5 rows × 1223 columns</p>\n",
       "</div>"
      ],
      "text/plain": [
       "            017  0300ST1550-1  0300ST245-1  0300ST320-1  0300ST320-2  \\\n",
       "EntDate                                                                \n",
       "2012-04-08    0             0            0            0            0   \n",
       "2012-04-15    0             0            0            0            0   \n",
       "2012-04-22    0             0            0            0            0   \n",
       "2012-04-29    0             0            0            0            0   \n",
       "2012-05-06    0             0            0            0            0   \n",
       "\n",
       "            0300ST320-3  0300ST365-1  0300ST365-2  0300ST365-3  0300ST450-1  \\\n",
       "EntDate                                                                       \n",
       "2012-04-08            0            0            0            0            0   \n",
       "2012-04-15            0            1            0            1            2   \n",
       "2012-04-22            0            0            0            0            0   \n",
       "2012-04-29            0          200            0            0            0   \n",
       "2012-05-06            0            0            0            0            0   \n",
       "\n",
       "             ...     9920-1  9920-2  9920-3  9920-4  9920-5  9920-6  9920-7  \\\n",
       "EntDate      ...                                                              \n",
       "2012-04-08   ...          0       0       0       0       0       0       0   \n",
       "2012-04-15   ...         21      20      19       7     166      98       0   \n",
       "2012-04-22   ...        114      41      15      10     207      87       0   \n",
       "2012-04-29   ...         43      38      44      13     101      21      10   \n",
       "2012-05-06   ...        154      29      47      21      75      43       0   \n",
       "\n",
       "            9997-25  HW220D15  TRUHONE  \n",
       "EntDate                                 \n",
       "2012-04-08        0         0        0  \n",
       "2012-04-15        0         0        0  \n",
       "2012-04-22        0         0        0  \n",
       "2012-04-29        0         0        0  \n",
       "2012-05-06        0         0        0  \n",
       "\n",
       "[5 rows x 1223 columns]"
      ]
     },
     "execution_count": 30,
     "metadata": {},
     "output_type": "execute_result"
    }
   ],
   "source": [
    "# create leftover dataset for dynamic time warping\n",
    "col_names = [value for value in product_SKUs if value not in non_active and value not in new_products]\n",
    "len(col_names)\n",
    "products = train_df[col_names]\n",
    "products.head()"
   ]
  },
  {
   "cell_type": "code",
   "execution_count": 31,
   "metadata": {},
   "outputs": [
    {
     "data": {
      "text/plain": [
       "(240, 1223)"
      ]
     },
     "execution_count": 31,
     "metadata": {},
     "output_type": "execute_result"
    }
   ],
   "source": [
    "# turn it into numpy array\n",
    "import numpy as np\n",
    "\n",
    "data_arr = np.asarray(products)\n",
    "type(data_arr)\n",
    "data_arr.shape"
   ]
  },
  {
   "cell_type": "markdown",
   "metadata": {},
   "source": [
    "## Dynamic Time Warping"
   ]
  },
  {
   "cell_type": "code",
   "execution_count": 21,
   "metadata": {},
   "outputs": [],
   "source": [
    "# pick three products to experiment\n",
    "t1=train_df['03108627CC']\n",
    "t2=train_df['9920-2']\n",
    "t3=train_df['TRUHONE']"
   ]
  },
  {
   "cell_type": "code",
   "execution_count": 22,
   "metadata": {},
   "outputs": [
    {
     "data": {
      "text/plain": [
       "(2007.394829125551, 7.615773105863909, 2004.8481239236053)"
      ]
     },
     "execution_count": 22,
     "metadata": {},
     "output_type": "execute_result"
    }
   ],
   "source": [
    "from math import sqrt\n",
    "\n",
    "def euclid_dist(t1,t2):\n",
    "    return sqrt(sum((t1-t2)**2))\n",
    "one_to_2 = euclid_dist(t1,t2)\n",
    "one_to_3 = euclid_dist(t1,t3)\n",
    "two_to_3 = euclid_dist(t2,t3)\n",
    "one_to_2, one_to_3, two_to_3"
   ]
  },
  {
   "cell_type": "code",
   "execution_count": 8,
   "metadata": {},
   "outputs": [],
   "source": [
    "def DTWDistance(s1, s2):\n",
    "    DTW={}\n",
    "\n",
    "    for i in range(len(s1)):\n",
    "        DTW[(i, -1)] = float('inf')\n",
    "    for i in range(len(s2)):\n",
    "        DTW[(-1, i)] = float('inf')\n",
    "    DTW[(-1, -1)] = 0\n",
    "\n",
    "    for i in range(len(s1)):\n",
    "        for j in range(len(s2)):\n",
    "            dist= (s1[i]-s2[j])**2\n",
    "            DTW[(i, j)] = dist + min(DTW[(i-1, j)],DTW[(i, j-1)], DTW[(i-1, j-1)])\n",
    "\n",
    "    return sqrt(DTW[len(s1)-1, len(s2)-1])"
   ]
  },
  {
   "cell_type": "code",
   "execution_count": null,
   "metadata": {},
   "outputs": [],
   "source": [
    "one_two = DTWDistance(t1,t2)\n",
    "one_three = DTWDistance(t1,t3)\n",
    "two_three = DTWDistance(t2,t3)\n",
    "one_two, one_three, two_three"
   ]
  },
  {
   "cell_type": "code",
   "execution_count": 9,
   "metadata": {},
   "outputs": [],
   "source": [
    "# w is the window of time period\n",
    "def DTWDistance(s1, s2, w):\n",
    "    DTW={}\n",
    "\n",
    "    w = max(w, abs(len(s1)-len(s2)))\n",
    "\n",
    "    for i in range(-1,len(s1)):\n",
    "        for j in range(-1,len(s2)):\n",
    "            DTW[(i, j)] = float('inf')\n",
    "    DTW[(-1, -1)] = 0\n",
    "\n",
    "    for i in range(len(s1)):\n",
    "        for j in range(max(0, i-w), min(len(s2), i+w)):\n",
    "            dist= (s1[i]-s2[j])**2\n",
    "            DTW[(i, j)] = dist + min(DTW[(i-1, j)],DTW[(i, j-1)], DTW[(i-1, j-1)])\n",
    "\n",
    "    return sqrt(DTW[len(s1)-1, len(s2)-1])"
   ]
  },
  {
   "cell_type": "code",
   "execution_count": null,
   "metadata": {},
   "outputs": [],
   "source": [
    "one_two = DTWDistance(t1,t2, 4)\n",
    "one_three = DTWDistance(t1,t3, 4)\n",
    "two_three = DTWDistance(t2,t3, 4)\n",
    "one_two, one_three, two_three"
   ]
  },
  {
   "cell_type": "code",
   "execution_count": null,
   "metadata": {},
   "outputs": [],
   "source": [
    "one_two = DTWDistance(t1,t2, 12)\n",
    "one_three = DTWDistance(t1,t3, 12)\n",
    "two_three = DTWDistance(t2,t3, 12)\n",
    "one_two, one_three, two_three"
   ]
  },
  {
   "cell_type": "code",
   "execution_count": 10,
   "metadata": {},
   "outputs": [],
   "source": [
    "# r is reach\n",
    "def LB_Keogh(s1,s2,r):\n",
    "    LB_sum=0\n",
    "    for ind,i in enumerate(s1):\n",
    "\n",
    "        lower_bound=min(s2[(ind-r if ind-r>=0 else 0):(ind+r)])\n",
    "        upper_bound=max(s2[(ind-r if ind-r>=0 else 0):(ind+r)])\n",
    "\n",
    "        if i>upper_bound:\n",
    "            LB_sum=LB_sum+(i-upper_bound)**2\n",
    "        elif i<lower_bound:\n",
    "            LB_sum=LB_sum+(i-lower_bound)**2\n",
    "\n",
    "    return sqrt(LB_sum)"
   ]
  },
  {
   "cell_type": "code",
   "execution_count": null,
   "metadata": {},
   "outputs": [],
   "source": [
    "one_two = LB_Keogh(t1,t2, 12)\n",
    "one_three = LB_Keogh(t1,t3, 12)\n",
    "two_three = LB_Keogh(t2,t3, 12)\n",
    "one_two, one_three, two_three"
   ]
  },
  {
   "cell_type": "code",
   "execution_count": 15,
   "metadata": {},
   "outputs": [],
   "source": [
    "def k_means_clust(data,num_clust,num_iter,w=5):\n",
    "    centroids=random.sample(list(data),num_clust)\n",
    "    counter=0\n",
    "    for n in range(num_iter):\n",
    "        counter+=1\n",
    "        print(counter)\n",
    "        assignments={}\n",
    "        #assign data points to clusters\n",
    "        for ind,i in enumerate(data):\n",
    "            min_dist=float('inf')\n",
    "            closest_clust=None\n",
    "            for c_ind,j in enumerate(centroids):\n",
    "                if LB_Keogh(i,j,5)<min_dist:\n",
    "                    cur_dist=DTWDistance(i,j,w)\n",
    "                    if cur_dist<min_dist:\n",
    "                        min_dist=cur_dist\n",
    "                        closest_clust=c_ind\n",
    "            if closest_clust in assignments:\n",
    "                assignments[closest_clust].append(ind)\n",
    "            else:\n",
    "                assignments[closest_clust]=[]\n",
    "\n",
    "        #recalculate centroids of clusters\n",
    "        for key in assignments:\n",
    "            clust_sum=0\n",
    "            for k in assignments[key]:\n",
    "                clust_sum=clust_sum+data[k]\n",
    "            centroids[key]=[m/len(assignments[key]) for m in clust_sum]\n",
    "\n",
    "    return centroids"
   ]
  },
  {
   "cell_type": "code",
   "execution_count": null,
   "metadata": {},
   "outputs": [],
   "source": [
    "# k-means clustering with dynamic time warping\n",
    "\n",
    "product_centroids = k_means_clust(data_arr,8,3,5)"
   ]
  },
  {
   "cell_type": "code",
   "execution_count": 37,
   "metadata": {},
   "outputs": [
    {
     "data": {
      "image/png": "[encoded data removed]",
      "text/plain": [
       "<matplotlib.figure.Figure at 0x10d037e48>"
      ]
     },
     "metadata": {},
     "output_type": "display_data"
    }
   ],
   "source": [
    "# to visualize clusters\n",
    "\n",
    "import matplotlib.pylab as plt\n",
    "\n",
    "for i in centroids:\n",
    "\n",
    "    plt.plot(i)\n",
    "\n",
    "plt.show()"
   ]
  },
  {
   "cell_type": "code",
   "execution_count": 47,
   "metadata": {},
   "outputs": [],
   "source": [
    "# try k-means clustering with dynamic time warping with smaller dataset\n",
    "\n",
    "from ts_cluster import ts_cluster\n",
    "import random\n",
    "import numpy as np\n",
    "from math import sqrt\n",
    "\n",
    "train = np.genfromtxt('data/train.csv', delimiter='\\t')\n",
    "test = np.genfromtxt('data/test.csv', delimiter='\\t')\n",
    "data=np.vstack((train[:,:-1],test[:,:-1]))\n",
    "\n",
    "cl_obj=ts_cluster(4)\n",
    "cl_obj.k_means_clust(data,10,4, progress=True)"
   ]
  },
  {
   "cell_type": "code",
   "execution_count": 49,
   "metadata": {},
   "outputs": [
    {
     "data": {
      "image/png": "[encoded data removed]",
      "text/plain": [
       "<matplotlib.figure.Figure at 0x10b3c6160>"
      ]
     },
     "metadata": {},
     "output_type": "display_data"
    }
   ],
   "source": [
    "cl_obj.plot_centroids()"
   ]
  },
  {
   "cell_type": "code",
   "execution_count": 57,
   "metadata": {},
   "outputs": [
    {
     "data": {
      "text/plain": [
       "dict_keys([2, 1, 3, 0])"
      ]
     },
     "execution_count": 57,
     "metadata": {},
     "output_type": "execute_result"
    }
   ],
   "source": [
    "assigned_data = cl_obj.get_assignments()\n",
    "# assigned_data: dictionary of 4 labels 0-3 (keys) with 600 values in them total \n",
    "# each value stands in for a row representing ts data \n",
    "assigned_data.keys()"
   ]
  },
  {
   "cell_type": "code",
   "execution_count": 43,
   "metadata": {},
   "outputs": [
    {
     "data": {
      "text/html": [
       "<div>\n",
       "<style scoped>\n",
       "    .dataframe tbody tr th:only-of-type {\n",
       "        vertical-align: middle;\n",
       "    }\n",
       "\n",
       "    .dataframe tbody tr th {\n",
       "        vertical-align: top;\n",
       "    }\n",
       "\n",
       "    .dataframe thead th {\n",
       "        text-align: right;\n",
       "    }\n",
       "</style>\n",
       "<table border=\"1\" class=\"dataframe\">\n",
       "  <thead>\n",
       "    <tr style=\"text-align: right;\">\n",
       "      <th></th>\n",
       "      <th>0</th>\n",
       "      <th>1</th>\n",
       "      <th>2</th>\n",
       "      <th>3</th>\n",
       "      <th>4</th>\n",
       "      <th>5</th>\n",
       "      <th>6</th>\n",
       "      <th>7</th>\n",
       "      <th>8</th>\n",
       "      <th>9</th>\n",
       "      <th>...</th>\n",
       "      <th>50</th>\n",
       "      <th>51</th>\n",
       "      <th>52</th>\n",
       "      <th>53</th>\n",
       "      <th>54</th>\n",
       "      <th>55</th>\n",
       "      <th>56</th>\n",
       "      <th>57</th>\n",
       "      <th>58</th>\n",
       "      <th>59</th>\n",
       "    </tr>\n",
       "  </thead>\n",
       "  <tbody>\n",
       "    <tr>\n",
       "      <th>0</th>\n",
       "      <td>-0.816482</td>\n",
       "      <td>-0.863547</td>\n",
       "      <td>-0.768186</td>\n",
       "      <td>-0.775759</td>\n",
       "      <td>-0.786032</td>\n",
       "      <td>-0.718249</td>\n",
       "      <td>-0.754529</td>\n",
       "      <td>-0.679543</td>\n",
       "      <td>-0.770513</td>\n",
       "      <td>-0.780613</td>\n",
       "      <td>...</td>\n",
       "      <td>0.949593</td>\n",
       "      <td>1.028690</td>\n",
       "      <td>0.981974</td>\n",
       "      <td>1.017405</td>\n",
       "      <td>0.974650</td>\n",
       "      <td>1.037586</td>\n",
       "      <td>1.025722</td>\n",
       "      <td>1.034192</td>\n",
       "      <td>1.054521</td>\n",
       "      <td>1.062646</td>\n",
       "    </tr>\n",
       "    <tr>\n",
       "      <th>1</th>\n",
       "      <td>1.215615</td>\n",
       "      <td>1.151724</td>\n",
       "      <td>1.168198</td>\n",
       "      <td>1.066335</td>\n",
       "      <td>1.097251</td>\n",
       "      <td>1.053508</td>\n",
       "      <td>1.041321</td>\n",
       "      <td>0.987983</td>\n",
       "      <td>0.895889</td>\n",
       "      <td>0.990498</td>\n",
       "      <td>...</td>\n",
       "      <td>-0.913476</td>\n",
       "      <td>-0.925776</td>\n",
       "      <td>-0.990294</td>\n",
       "      <td>-1.088254</td>\n",
       "      <td>-1.050179</td>\n",
       "      <td>-1.078927</td>\n",
       "      <td>-1.071080</td>\n",
       "      <td>-1.115294</td>\n",
       "      <td>-1.187338</td>\n",
       "      <td>-1.109016</td>\n",
       "    </tr>\n",
       "    <tr>\n",
       "      <th>2</th>\n",
       "      <td>-1.330216</td>\n",
       "      <td>-1.371811</td>\n",
       "      <td>-1.319794</td>\n",
       "      <td>-1.126092</td>\n",
       "      <td>-1.236060</td>\n",
       "      <td>-1.119303</td>\n",
       "      <td>-1.112819</td>\n",
       "      <td>-1.098274</td>\n",
       "      <td>-1.053758</td>\n",
       "      <td>-0.992325</td>\n",
       "      <td>...</td>\n",
       "      <td>0.876362</td>\n",
       "      <td>0.902665</td>\n",
       "      <td>0.947789</td>\n",
       "      <td>1.030940</td>\n",
       "      <td>1.099341</td>\n",
       "      <td>1.106793</td>\n",
       "      <td>1.138056</td>\n",
       "      <td>1.056943</td>\n",
       "      <td>1.194364</td>\n",
       "      <td>1.165858</td>\n",
       "    </tr>\n",
       "    <tr>\n",
       "      <th>3</th>\n",
       "      <td>-0.053710</td>\n",
       "      <td>0.353154</td>\n",
       "      <td>0.592633</td>\n",
       "      <td>0.639313</td>\n",
       "      <td>0.524357</td>\n",
       "      <td>0.273921</td>\n",
       "      <td>0.030736</td>\n",
       "      <td>-0.297329</td>\n",
       "      <td>-0.466250</td>\n",
       "      <td>-0.588028</td>\n",
       "      <td>...</td>\n",
       "      <td>-0.053461</td>\n",
       "      <td>-0.132077</td>\n",
       "      <td>-0.134297</td>\n",
       "      <td>-0.132342</td>\n",
       "      <td>-0.037283</td>\n",
       "      <td>0.080429</td>\n",
       "      <td>0.008149</td>\n",
       "      <td>0.041267</td>\n",
       "      <td>0.001781</td>\n",
       "      <td>0.035832</td>\n",
       "    </tr>\n",
       "  </tbody>\n",
       "</table>\n",
       "<p>4 rows × 60 columns</p>\n",
       "</div>"
      ],
      "text/plain": [
       "         0         1         2         3         4         5         6   \\\n",
       "0 -0.816482 -0.863547 -0.768186 -0.775759 -0.786032 -0.718249 -0.754529   \n",
       "1  1.215615  1.151724  1.168198  1.066335  1.097251  1.053508  1.041321   \n",
       "2 -1.330216 -1.371811 -1.319794 -1.126092 -1.236060 -1.119303 -1.112819   \n",
       "3 -0.053710  0.353154  0.592633  0.639313  0.524357  0.273921  0.030736   \n",
       "\n",
       "         7         8         9     ...           50        51        52  \\\n",
       "0 -0.679543 -0.770513 -0.780613    ...     0.949593  1.028690  0.981974   \n",
       "1  0.987983  0.895889  0.990498    ...    -0.913476 -0.925776 -0.990294   \n",
       "2 -1.098274 -1.053758 -0.992325    ...     0.876362  0.902665  0.947789   \n",
       "3 -0.297329 -0.466250 -0.588028    ...    -0.053461 -0.132077 -0.134297   \n",
       "\n",
       "         53        54        55        56        57        58        59  \n",
       "0  1.017405  0.974650  1.037586  1.025722  1.034192  1.054521  1.062646  \n",
       "1 -1.088254 -1.050179 -1.078927 -1.071080 -1.115294 -1.187338 -1.109016  \n",
       "2  1.030940  1.099341  1.106793  1.138056  1.056943  1.194364  1.165858  \n",
       "3 -0.132342 -0.037283  0.080429  0.008149  0.041267  0.001781  0.035832  \n",
       "\n",
       "[4 rows x 60 columns]"
      ]
     },
     "execution_count": 43,
     "metadata": {},
     "output_type": "execute_result"
    }
   ],
   "source": [
    "# centroids is a 4x60 list of numbers\n",
    "len(centroids)\n",
    "len(centroids[0])\n",
    "pd.DataFrame(centroids)"
   ]
  },
  {
   "cell_type": "code",
   "execution_count": 38,
   "metadata": {},
   "outputs": [
    {
     "data": {
      "text/html": [
       "<div>\n",
       "<style scoped>\n",
       "    .dataframe tbody tr th:only-of-type {\n",
       "        vertical-align: middle;\n",
       "    }\n",
       "\n",
       "    .dataframe tbody tr th {\n",
       "        vertical-align: top;\n",
       "    }\n",
       "\n",
       "    .dataframe thead th {\n",
       "        text-align: right;\n",
       "    }\n",
       "</style>\n",
       "<table border=\"1\" class=\"dataframe\">\n",
       "  <thead>\n",
       "    <tr style=\"text-align: right;\">\n",
       "      <th></th>\n",
       "      <th>0</th>\n",
       "      <th>1</th>\n",
       "      <th>2</th>\n",
       "      <th>3</th>\n",
       "      <th>4</th>\n",
       "      <th>5</th>\n",
       "      <th>6</th>\n",
       "      <th>7</th>\n",
       "      <th>8</th>\n",
       "      <th>9</th>\n",
       "      <th>...</th>\n",
       "      <th>51</th>\n",
       "      <th>52</th>\n",
       "      <th>53</th>\n",
       "      <th>54</th>\n",
       "      <th>55</th>\n",
       "      <th>56</th>\n",
       "      <th>57</th>\n",
       "      <th>58</th>\n",
       "      <th>59</th>\n",
       "      <th>60</th>\n",
       "    </tr>\n",
       "  </thead>\n",
       "  <tbody>\n",
       "    <tr>\n",
       "      <th>0</th>\n",
       "      <td>-0.376936</td>\n",
       "      <td>1.224864</td>\n",
       "      <td>0.343874</td>\n",
       "      <td>0.328454</td>\n",
       "      <td>-0.337609</td>\n",
       "      <td>1.026514</td>\n",
       "      <td>-1.330996</td>\n",
       "      <td>-0.657800</td>\n",
       "      <td>1.446077</td>\n",
       "      <td>-0.846397</td>\n",
       "      <td>...</td>\n",
       "      <td>-1.568165</td>\n",
       "      <td>1.021863</td>\n",
       "      <td>-1.429748</td>\n",
       "      <td>1.356966</td>\n",
       "      <td>1.372781</td>\n",
       "      <td>0.663558</td>\n",
       "      <td>0.918346</td>\n",
       "      <td>-1.311742</td>\n",
       "      <td>-1.197146</td>\n",
       "      <td>1</td>\n",
       "    </tr>\n",
       "    <tr>\n",
       "      <th>1</th>\n",
       "      <td>0.644406</td>\n",
       "      <td>0.413269</td>\n",
       "      <td>-0.862278</td>\n",
       "      <td>-1.497386</td>\n",
       "      <td>-0.421458</td>\n",
       "      <td>-0.214215</td>\n",
       "      <td>-1.292131</td>\n",
       "      <td>0.956898</td>\n",
       "      <td>-1.216140</td>\n",
       "      <td>-0.588536</td>\n",
       "      <td>...</td>\n",
       "      <td>-0.802528</td>\n",
       "      <td>-1.121287</td>\n",
       "      <td>0.989319</td>\n",
       "      <td>-1.109687</td>\n",
       "      <td>0.219856</td>\n",
       "      <td>0.630034</td>\n",
       "      <td>1.398140</td>\n",
       "      <td>0.085742</td>\n",
       "      <td>0.024997</td>\n",
       "      <td>1</td>\n",
       "    </tr>\n",
       "    <tr>\n",
       "      <th>2</th>\n",
       "      <td>-0.978667</td>\n",
       "      <td>-0.406232</td>\n",
       "      <td>0.822429</td>\n",
       "      <td>-1.408242</td>\n",
       "      <td>-1.676734</td>\n",
       "      <td>-0.490632</td>\n",
       "      <td>1.404598</td>\n",
       "      <td>1.168600</td>\n",
       "      <td>-1.703254</td>\n",
       "      <td>0.972810</td>\n",
       "      <td>...</td>\n",
       "      <td>-0.762884</td>\n",
       "      <td>1.382972</td>\n",
       "      <td>-0.869103</td>\n",
       "      <td>1.277252</td>\n",
       "      <td>-0.198967</td>\n",
       "      <td>0.966809</td>\n",
       "      <td>0.666129</td>\n",
       "      <td>0.106996</td>\n",
       "      <td>0.082715</td>\n",
       "      <td>1</td>\n",
       "    </tr>\n",
       "    <tr>\n",
       "      <th>3</th>\n",
       "      <td>-0.236537</td>\n",
       "      <td>-0.098175</td>\n",
       "      <td>0.367092</td>\n",
       "      <td>1.366860</td>\n",
       "      <td>0.498281</td>\n",
       "      <td>-0.300223</td>\n",
       "      <td>1.715634</td>\n",
       "      <td>0.902108</td>\n",
       "      <td>-0.218132</td>\n",
       "      <td>-1.430721</td>\n",
       "      <td>...</td>\n",
       "      <td>-1.499604</td>\n",
       "      <td>0.406744</td>\n",
       "      <td>1.289153</td>\n",
       "      <td>-1.119731</td>\n",
       "      <td>-0.995985</td>\n",
       "      <td>1.651135</td>\n",
       "      <td>-1.187098</td>\n",
       "      <td>0.025463</td>\n",
       "      <td>-0.841518</td>\n",
       "      <td>1</td>\n",
       "    </tr>\n",
       "    <tr>\n",
       "      <th>4</th>\n",
       "      <td>1.490735</td>\n",
       "      <td>1.325243</td>\n",
       "      <td>1.626829</td>\n",
       "      <td>-0.317056</td>\n",
       "      <td>-1.098990</td>\n",
       "      <td>-0.022213</td>\n",
       "      <td>0.596980</td>\n",
       "      <td>1.667339</td>\n",
       "      <td>-0.206153</td>\n",
       "      <td>-1.376627</td>\n",
       "      <td>...</td>\n",
       "      <td>1.029995</td>\n",
       "      <td>-1.496161</td>\n",
       "      <td>-1.167442</td>\n",
       "      <td>1.484208</td>\n",
       "      <td>-0.373020</td>\n",
       "      <td>-0.843281</td>\n",
       "      <td>-0.209794</td>\n",
       "      <td>0.137724</td>\n",
       "      <td>0.716542</td>\n",
       "      <td>1</td>\n",
       "    </tr>\n",
       "  </tbody>\n",
       "</table>\n",
       "<p>5 rows × 61 columns</p>\n",
       "</div>"
      ],
      "text/plain": [
       "         0         1         2         3         4         5         6   \\\n",
       "0 -0.376936  1.224864  0.343874  0.328454 -0.337609  1.026514 -1.330996   \n",
       "1  0.644406  0.413269 -0.862278 -1.497386 -0.421458 -0.214215 -1.292131   \n",
       "2 -0.978667 -0.406232  0.822429 -1.408242 -1.676734 -0.490632  1.404598   \n",
       "3 -0.236537 -0.098175  0.367092  1.366860  0.498281 -0.300223  1.715634   \n",
       "4  1.490735  1.325243  1.626829 -0.317056 -1.098990 -0.022213  0.596980   \n",
       "\n",
       "         7         8         9  ...        51        52        53        54  \\\n",
       "0 -0.657800  1.446077 -0.846397 ... -1.568165  1.021863 -1.429748  1.356966   \n",
       "1  0.956898 -1.216140 -0.588536 ... -0.802528 -1.121287  0.989319 -1.109687   \n",
       "2  1.168600 -1.703254  0.972810 ... -0.762884  1.382972 -0.869103  1.277252   \n",
       "3  0.902108 -0.218132 -1.430721 ... -1.499604  0.406744  1.289153 -1.119731   \n",
       "4  1.667339 -0.206153 -1.376627 ...  1.029995 -1.496161 -1.167442  1.484208   \n",
       "\n",
       "         55        56        57        58        59  60  \n",
       "0  1.372781  0.663558  0.918346 -1.311742 -1.197146   1  \n",
       "1  0.219856  0.630034  1.398140  0.085742  0.024997   1  \n",
       "2 -0.198967  0.966809  0.666129  0.106996  0.082715   1  \n",
       "3 -0.995985  1.651135 -1.187098  0.025463 -0.841518   1  \n",
       "4 -0.373020 -0.843281 -0.209794  0.137724  0.716542   1  \n",
       "\n",
       "[5 rows x 61 columns]"
      ]
     },
     "execution_count": 38,
     "metadata": {},
     "output_type": "execute_result"
    }
   ],
   "source": [
    "import pandas as pd\n",
    "train_df = pd.read_csv('data/train.csv', sep='\\t', header=None)\n",
    "test_df = pd.read_csv('data/test.csv', sep='\\t', header=None)\n",
    "df_new = pd.concat([train_df, test_df])\n",
    "df_new.head()"
   ]
  },
  {
   "cell_type": "code",
   "execution_count": null,
   "metadata": {},
   "outputs": [],
   "source": [
    "# turn them back into product groups\n",
    "\n",
    "# initial data panda df, name: products, index=datetime, columns = product SKUS\n",
    "# turned into np.ndarray, name: data_arr, same as df without index names and column names\n"
   ]
  },
  {
   "cell_type": "code",
   "execution_count": null,
   "metadata": {},
   "outputs": [],
   "source": []
  },
  {
   "cell_type": "code",
   "execution_count": null,
   "metadata": {},
   "outputs": [],
   "source": []
  },
  {
   "cell_type": "code",
   "execution_count": null,
   "metadata": {},
   "outputs": [],
   "source": []
  },
  {
   "cell_type": "code",
   "execution_count": null,
   "metadata": {},
   "outputs": [],
   "source": []
  },
  {
   "cell_type": "code",
   "execution_count": null,
   "metadata": {},
   "outputs": [],
   "source": []
  },
  {
   "cell_type": "code",
   "execution_count": null,
   "metadata": {},
   "outputs": [],
   "source": []
  },
  {
   "cell_type": "code",
   "execution_count": null,
   "metadata": {},
   "outputs": [],
   "source": []
  },
  {
   "cell_type": "code",
   "execution_count": null,
   "metadata": {},
   "outputs": [],
   "source": []
  },
  {
   "cell_type": "markdown",
   "metadata": {},
   "source": [
    "## Select single item for forecasting"
   ]
  },
  {
   "cell_type": "code",
   "execution_count": null,
   "metadata": {},
   "outputs": [],
   "source": [
    "# pick one item\n",
    "test = train_df['03108627CC']\n",
    "test.head()"
   ]
  },
  {
   "cell_type": "code",
   "execution_count": null,
   "metadata": {},
   "outputs": [],
   "source": [
    "# plot one item\n",
    "from functions import plot_train_test\n",
    "plot_train_test(train_df, test_df, '03108627CC')"
   ]
  }
 ],
 "metadata": {
  "kernelspec": {
   "display_name": "Python 3",
   "language": "python",
   "name": "python3"
  },
  "language_info": {
   "codemirror_mode": {
    "name": "ipython",
    "version": 3
   },
   "file_extension": ".py",
   "mimetype": "text/x-python",
   "name": "python",
   "nbconvert_exporter": "python",
   "pygments_lexer": "ipython3",
   "version": "3.6.4"
  }
 },
 "nbformat": 4,
 "nbformat_minor": 2
}
