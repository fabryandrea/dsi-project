{
 "cells": [
  {
   "cell_type": "markdown",
   "metadata": {},
   "source": [
    "# Roadmap"
   ]
  },
  {
   "cell_type": "markdown",
   "metadata": {},
   "source": [
    "1. Get data\n",
    "2. Create train-test split\n",
    "3. Clean training set (write functions): missing values, text, categorical attributes, scaling\n",
    "4. Select models and scoring metrics, then train\n",
    "5. Compare them: clean test set, make predictions, score\n",
    "6. Fine-tune models"
   ]
  },
  {
   "cell_type": "markdown",
   "metadata": {},
   "source": [
    "## 1. Load data"
   ]
  },
  {
   "cell_type": "code",
   "execution_count": 1,
   "metadata": {},
   "outputs": [
    {
     "name": "stdout",
     "output_type": "stream",
     "text": [
      "<class 'pandas.core.frame.DataFrame'>\n",
      "DatetimeIndex: 292 entries, 2012-04-08 to 2017-11-05\n",
      "Columns: 1833 entries, 012 to TRUHONE\n",
      "dtypes: int64(1833)\n",
      "memory usage: 4.1 MB\n"
     ]
    }
   ],
   "source": [
    "from functions import load_data\n",
    "data_df = load_data('data/time_series.xlsx')\n",
    "data_df.info()"
   ]
  },
  {
   "cell_type": "markdown",
   "metadata": {},
   "source": [
    "## 2. Train-Test Split"
   ]
  },
  {
   "cell_type": "code",
   "execution_count": 2,
   "metadata": {},
   "outputs": [
    {
     "name": "stdout",
     "output_type": "stream",
     "text": [
      "Observations: 292\n",
      "Training Observations: 192\n",
      "Testing Observations: 100\n"
     ]
    },
    {
     "data": {
      "text/html": [
       "<div>\n",
       "<style scoped>\n",
       "    .dataframe tbody tr th:only-of-type {\n",
       "        vertical-align: middle;\n",
       "    }\n",
       "\n",
       "    .dataframe tbody tr th {\n",
       "        vertical-align: top;\n",
       "    }\n",
       "\n",
       "    .dataframe thead th {\n",
       "        text-align: right;\n",
       "    }\n",
       "</style>\n",
       "<table border=\"1\" class=\"dataframe\">\n",
       "  <thead>\n",
       "    <tr style=\"text-align: right;\">\n",
       "      <th></th>\n",
       "      <th>012</th>\n",
       "      <th>017</th>\n",
       "      <th>03008944ST-1</th>\n",
       "      <th>03008944ST-3</th>\n",
       "      <th>0300ST1550-1</th>\n",
       "      <th>0300ST15X9-1</th>\n",
       "      <th>0300ST15X9-2</th>\n",
       "      <th>0300ST15X9-3</th>\n",
       "      <th>0300ST1605-1</th>\n",
       "      <th>0300ST1605-2</th>\n",
       "      <th>...</th>\n",
       "      <th>9920-2</th>\n",
       "      <th>9920-3</th>\n",
       "      <th>9920-4</th>\n",
       "      <th>9920-5</th>\n",
       "      <th>9920-6</th>\n",
       "      <th>9920-7</th>\n",
       "      <th>9997-25</th>\n",
       "      <th>HW220D15</th>\n",
       "      <th>HW240DIA</th>\n",
       "      <th>TRUHONE</th>\n",
       "    </tr>\n",
       "    <tr>\n",
       "      <th>EntDate</th>\n",
       "      <th></th>\n",
       "      <th></th>\n",
       "      <th></th>\n",
       "      <th></th>\n",
       "      <th></th>\n",
       "      <th></th>\n",
       "      <th></th>\n",
       "      <th></th>\n",
       "      <th></th>\n",
       "      <th></th>\n",
       "      <th></th>\n",
       "      <th></th>\n",
       "      <th></th>\n",
       "      <th></th>\n",
       "      <th></th>\n",
       "      <th></th>\n",
       "      <th></th>\n",
       "      <th></th>\n",
       "      <th></th>\n",
       "      <th></th>\n",
       "      <th></th>\n",
       "    </tr>\n",
       "  </thead>\n",
       "  <tbody>\n",
       "    <tr>\n",
       "      <th>2012-04-08</th>\n",
       "      <td>0</td>\n",
       "      <td>0</td>\n",
       "      <td>0</td>\n",
       "      <td>0</td>\n",
       "      <td>0</td>\n",
       "      <td>0</td>\n",
       "      <td>0</td>\n",
       "      <td>0</td>\n",
       "      <td>0</td>\n",
       "      <td>0</td>\n",
       "      <td>...</td>\n",
       "      <td>0</td>\n",
       "      <td>0</td>\n",
       "      <td>0</td>\n",
       "      <td>0</td>\n",
       "      <td>0</td>\n",
       "      <td>0</td>\n",
       "      <td>0</td>\n",
       "      <td>0</td>\n",
       "      <td>0</td>\n",
       "      <td>0</td>\n",
       "    </tr>\n",
       "    <tr>\n",
       "      <th>2012-04-15</th>\n",
       "      <td>0</td>\n",
       "      <td>0</td>\n",
       "      <td>0</td>\n",
       "      <td>0</td>\n",
       "      <td>0</td>\n",
       "      <td>0</td>\n",
       "      <td>0</td>\n",
       "      <td>0</td>\n",
       "      <td>0</td>\n",
       "      <td>0</td>\n",
       "      <td>...</td>\n",
       "      <td>20</td>\n",
       "      <td>19</td>\n",
       "      <td>7</td>\n",
       "      <td>166</td>\n",
       "      <td>98</td>\n",
       "      <td>0</td>\n",
       "      <td>0</td>\n",
       "      <td>0</td>\n",
       "      <td>0</td>\n",
       "      <td>0</td>\n",
       "    </tr>\n",
       "    <tr>\n",
       "      <th>2012-04-22</th>\n",
       "      <td>0</td>\n",
       "      <td>0</td>\n",
       "      <td>0</td>\n",
       "      <td>0</td>\n",
       "      <td>0</td>\n",
       "      <td>0</td>\n",
       "      <td>0</td>\n",
       "      <td>0</td>\n",
       "      <td>0</td>\n",
       "      <td>0</td>\n",
       "      <td>...</td>\n",
       "      <td>41</td>\n",
       "      <td>15</td>\n",
       "      <td>10</td>\n",
       "      <td>207</td>\n",
       "      <td>87</td>\n",
       "      <td>0</td>\n",
       "      <td>0</td>\n",
       "      <td>0</td>\n",
       "      <td>0</td>\n",
       "      <td>0</td>\n",
       "    </tr>\n",
       "    <tr>\n",
       "      <th>2012-04-29</th>\n",
       "      <td>0</td>\n",
       "      <td>0</td>\n",
       "      <td>0</td>\n",
       "      <td>0</td>\n",
       "      <td>0</td>\n",
       "      <td>0</td>\n",
       "      <td>0</td>\n",
       "      <td>0</td>\n",
       "      <td>0</td>\n",
       "      <td>0</td>\n",
       "      <td>...</td>\n",
       "      <td>38</td>\n",
       "      <td>44</td>\n",
       "      <td>13</td>\n",
       "      <td>101</td>\n",
       "      <td>21</td>\n",
       "      <td>10</td>\n",
       "      <td>0</td>\n",
       "      <td>0</td>\n",
       "      <td>0</td>\n",
       "      <td>0</td>\n",
       "    </tr>\n",
       "    <tr>\n",
       "      <th>2012-05-06</th>\n",
       "      <td>0</td>\n",
       "      <td>0</td>\n",
       "      <td>0</td>\n",
       "      <td>0</td>\n",
       "      <td>0</td>\n",
       "      <td>0</td>\n",
       "      <td>0</td>\n",
       "      <td>0</td>\n",
       "      <td>0</td>\n",
       "      <td>0</td>\n",
       "      <td>...</td>\n",
       "      <td>29</td>\n",
       "      <td>47</td>\n",
       "      <td>21</td>\n",
       "      <td>75</td>\n",
       "      <td>43</td>\n",
       "      <td>0</td>\n",
       "      <td>0</td>\n",
       "      <td>0</td>\n",
       "      <td>0</td>\n",
       "      <td>0</td>\n",
       "    </tr>\n",
       "  </tbody>\n",
       "</table>\n",
       "<p>5 rows × 1833 columns</p>\n",
       "</div>"
      ],
      "text/plain": [
       "            012  017  03008944ST-1  03008944ST-3  0300ST1550-1  0300ST15X9-1  \\\n",
       "EntDate                                                                        \n",
       "2012-04-08    0    0             0             0             0             0   \n",
       "2012-04-15    0    0             0             0             0             0   \n",
       "2012-04-22    0    0             0             0             0             0   \n",
       "2012-04-29    0    0             0             0             0             0   \n",
       "2012-05-06    0    0             0             0             0             0   \n",
       "\n",
       "            0300ST15X9-2  0300ST15X9-3  0300ST1605-1  0300ST1605-2   ...     \\\n",
       "EntDate                                                              ...      \n",
       "2012-04-08             0             0             0             0   ...      \n",
       "2012-04-15             0             0             0             0   ...      \n",
       "2012-04-22             0             0             0             0   ...      \n",
       "2012-04-29             0             0             0             0   ...      \n",
       "2012-05-06             0             0             0             0   ...      \n",
       "\n",
       "            9920-2  9920-3  9920-4  9920-5  9920-6  9920-7  9997-25  HW220D15  \\\n",
       "EntDate                                                                         \n",
       "2012-04-08       0       0       0       0       0       0        0         0   \n",
       "2012-04-15      20      19       7     166      98       0        0         0   \n",
       "2012-04-22      41      15      10     207      87       0        0         0   \n",
       "2012-04-29      38      44      13     101      21      10        0         0   \n",
       "2012-05-06      29      47      21      75      43       0        0         0   \n",
       "\n",
       "            HW240DIA  TRUHONE  \n",
       "EntDate                        \n",
       "2012-04-08         0        0  \n",
       "2012-04-15         0        0  \n",
       "2012-04-22         0        0  \n",
       "2012-04-29         0        0  \n",
       "2012-05-06         0        0  \n",
       "\n",
       "[5 rows x 1833 columns]"
      ]
     },
     "execution_count": 2,
     "metadata": {},
     "output_type": "execute_result"
    }
   ],
   "source": [
    "# splitting into training and testing sets using 66-34\n",
    "from functions import train_test_split\n",
    "\n",
    "train_df, test_df = train_test_split(data_df, 0.66)\n",
    "train_df.head()"
   ]
  },
  {
   "cell_type": "markdown",
   "metadata": {},
   "source": [
    "### Exponential Smoothing with Homebrewed Class"
   ]
  },
  {
   "cell_type": "code",
   "execution_count": null,
   "metadata": {},
   "outputs": [],
   "source": [
    "testing_now = train_df['9920-2']\n",
    "smooth = testing_now[0]\n",
    "smooth\n",
    "train_df['9920-2'].iloc[0]"
   ]
  },
  {
   "cell_type": "code",
   "execution_count": 3,
   "metadata": {},
   "outputs": [],
   "source": [
    "from HoltWinter_class import HoltWinterExponentialSmoothing"
   ]
  },
  {
   "cell_type": "code",
   "execution_count": 4,
   "metadata": {},
   "outputs": [],
   "source": [
    "model = HoltWinterExponentialSmoothing(alpha=0.51, beta=0.015, gamma=0.1)\n",
    "model.fit(train_df.index, train_df['9920-2'])\n",
    "preds = model.predict(X=train_df['9920-2'], slen=10, n_preds=100)"
   ]
  },
  {
   "cell_type": "code",
   "execution_count": 5,
   "metadata": {},
   "outputs": [
    {
     "ename": "TypeError",
     "evalue": "predict() missing 1 required positional argument: 'n_preds'",
     "output_type": "error",
     "traceback": [
      "\u001b[0;31m---------------------------------------------------------------------------\u001b[0m",
      "\u001b[0;31mTypeError\u001b[0m                                 Traceback (most recent call last)",
      "\u001b[0;32m<ipython-input-5-fb13d3a87a75>\u001b[0m in \u001b[0;36m<module>\u001b[0;34m()\u001b[0m\n\u001b[0;32m----> 1\u001b[0;31m \u001b[0mmodel\u001b[0m\u001b[0;34m.\u001b[0m\u001b[0mscore\u001b[0m\u001b[0;34m(\u001b[0m\u001b[0my\u001b[0m\u001b[0;34m=\u001b[0m\u001b[0mpreds\u001b[0m\u001b[0;34m,\u001b[0m \u001b[0mX\u001b[0m\u001b[0;34m=\u001b[0m\u001b[0mtrain_df\u001b[0m\u001b[0;34m[\u001b[0m\u001b[0;34m'9920-2'\u001b[0m\u001b[0;34m]\u001b[0m\u001b[0;34m,\u001b[0m \u001b[0mn_preds\u001b[0m\u001b[0;34m=\u001b[0m\u001b[0;36m100\u001b[0m\u001b[0;34m)\u001b[0m\u001b[0;34m\u001b[0m\u001b[0m\n\u001b[0m",
      "\u001b[0;32m~/Documents/dsi-project/HoltWinter_class.py\u001b[0m in \u001b[0;36mscore\u001b[0;34m(self, X, y, n_preds)\u001b[0m\n\u001b[1;32m    121\u001b[0m         \u001b[0my\u001b[0m\u001b[0;34m:\u001b[0m \u001b[0mA\u001b[0m \u001b[0mseries\u001b[0m \u001b[0mof\u001b[0m \u001b[0mtrue\u001b[0m \u001b[0mvalues\u001b[0m\u001b[0;34m.\u001b[0m\u001b[0;34m\u001b[0m\u001b[0m\n\u001b[1;32m    122\u001b[0m         \"\"\"\n\u001b[0;32m--> 123\u001b[0;31m         \u001b[0mforecasts\u001b[0m \u001b[0;34m=\u001b[0m \u001b[0mself\u001b[0m\u001b[0;34m.\u001b[0m\u001b[0mpredict\u001b[0m\u001b[0;34m(\u001b[0m\u001b[0mX\u001b[0m\u001b[0;34m,\u001b[0m \u001b[0mn_preds\u001b[0m\u001b[0;34m)\u001b[0m\u001b[0;34m\u001b[0m\u001b[0m\n\u001b[0m\u001b[1;32m    124\u001b[0m         \u001b[0mrms\u001b[0m \u001b[0;34m=\u001b[0m \u001b[0msqrt\u001b[0m\u001b[0;34m(\u001b[0m\u001b[0mmean_squared_error\u001b[0m\u001b[0;34m(\u001b[0m\u001b[0my\u001b[0m\u001b[0;34m,\u001b[0m \u001b[0mforecasts\u001b[0m\u001b[0;34m[\u001b[0m\u001b[0;34m-\u001b[0m\u001b[0mn_preds\u001b[0m\u001b[0;34m:\u001b[0m\u001b[0;34m]\u001b[0m\u001b[0;34m)\u001b[0m\u001b[0;34m)\u001b[0m\u001b[0;34m\u001b[0m\u001b[0m\n\u001b[1;32m    125\u001b[0m         \u001b[0;32mreturn\u001b[0m \u001b[0mrms\u001b[0m\u001b[0;34m\u001b[0m\u001b[0m\n",
      "\u001b[0;31mTypeError\u001b[0m: predict() missing 1 required positional argument: 'n_preds'"
     ]
    }
   ],
   "source": [
    "model.score(y=preds, X=train_df['9920-2'], n_preds=100)"
   ]
  },
  {
   "cell_type": "markdown",
   "metadata": {},
   "source": [
    "### Exponential Smoothing with Homebrewed Functions"
   ]
  },
  {
   "cell_type": "code",
   "execution_count": null,
   "metadata": {},
   "outputs": [],
   "source": [
    "from exponential_smoothing import initial_trend, initial_seasonal_components, triple_exponential_smoothing"
   ]
  },
  {
   "cell_type": "code",
   "execution_count": null,
   "metadata": {},
   "outputs": [],
   "source": [
    "what_is_it = initial_trend(train_df['9920-2'], slen=10)\n",
    "what_is_it"
   ]
  },
  {
   "cell_type": "code",
   "execution_count": null,
   "metadata": {},
   "outputs": [],
   "source": [
    "predictions = triple_exponential_smoothing(train_df['9920-2'], slen=10, alpha=0.51, beta=0.015, gamma=0.1, n_preds=100)\n",
    "y_hat['HW_new'] = predictions[-100:]"
   ]
  },
  {
   "cell_type": "code",
   "execution_count": null,
   "metadata": {},
   "outputs": [],
   "source": [
    "from functions import RMSE\n",
    "\n",
    "RMSE(test_df, '9920-2', y_hat, 'HW_new')"
   ]
  },
  {
   "cell_type": "markdown",
   "metadata": {},
   "source": [
    "### Exponential Smoothing with Statsmodels"
   ]
  },
  {
   "cell_type": "code",
   "execution_count": null,
   "metadata": {},
   "outputs": [],
   "source": [
    "# no trend, just seasonality (multiplicative), no damping\n",
    "from statsmodels.tsa.api import ExponentialSmoothing\n",
    "\n",
    "fit1 = ExponentialSmoothing(np.asarray(train_df['9920-2']), seasonal_periods=10, trend=None, seasonal='additive').fit(smoothing_level=0.51, smoothing_seasonal=0.1)\n",
    "y_hat['DES'] = fit1.forecast(len(test_df))\n",
    "\n",
    "plot_time_series(train_df, test_df, '9920-2', y_hat, 'DES', 'Double ES Forecast')"
   ]
  },
  {
   "cell_type": "code",
   "execution_count": null,
   "metadata": {},
   "outputs": [],
   "source": [
    "from functions import RMSE\n",
    "\n",
    "RMSE(test_df, '9920-2', y_hat, 'DES')"
   ]
  },
  {
   "cell_type": "code",
   "execution_count": null,
   "metadata": {},
   "outputs": [],
   "source": [
    "# here we have trend and seasonality, so we will use Holt-Winters\n",
    "from statsmodels.tsa.api import ExponentialSmoothing\n",
    "\n",
    "fit1 = ExponentialSmoothing(np.asarray(train_df['9920-2']), seasonal_periods=10, trend='add', seasonal='add').fit(smoothing_level=0.51, smoothing_slope=0.015,smoothing_seasonal=0.1)\n",
    "y_hat['Holt_Winter'] = fit1.forecast(len(test_df))\n",
    "\n",
    "plot_time_series(train_df, test_df, '9920-2', y_hat, 'Holt_Winter', 'Holt_Winter Forecast')"
   ]
  },
  {
   "cell_type": "code",
   "execution_count": null,
   "metadata": {},
   "outputs": [],
   "source": [
    "from functions import RMSE\n",
    "\n",
    "RMSE(test_df, '9920-2', y_hat, 'Holt_Winter')"
   ]
  }
 ],
 "metadata": {
  "kernelspec": {
   "display_name": "Python 3",
   "language": "python",
   "name": "python3"
  },
  "language_info": {
   "codemirror_mode": {
    "name": "ipython",
    "version": 3
   },
   "file_extension": ".py",
   "mimetype": "text/x-python",
   "name": "python",
   "nbconvert_exporter": "python",
   "pygments_lexer": "ipython3",
   "version": "3.6.4"
  }
 },
 "nbformat": 4,
 "nbformat_minor": 2
}
